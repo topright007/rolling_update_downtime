{
 "cells": [
  {
   "cell_type": "code",
   "execution_count": 1,
   "id": "9b4edc3a-620f-4caf-89fb-153d3e2e1639",
   "metadata": {
    "pycharm": {
     "is_executing": true
    }
   },
   "outputs": [
    {
     "name": "stdout",
     "output_type": "stream",
     "text": [
      "failed to add font /usr/share/fonts/truetype/noto/NotoColorEmoji.ttf\n"
     ]
    }
   ],
   "source": [
    "import numpy as np\n",
    "import matplotlib.pyplot as plt\n",
    "import pandas as pd\n",
    "from statistics import mean\n",
    "import matplotlib.font_manager\n",
    "\n",
    "from RoomMeetingAssignments import *\n",
    "from PeerConnection import *\n",
    "\n",
    "from rmsops import *\n",
    "\n",
    "fontName = 'YS Text'\n",
    "fontColor = '#FF6427'\n",
    "fontColor2 = '#000000'\n",
    "\n",
    "font_files = matplotlib.font_manager.findSystemFonts(fontpaths='/usr/share/fonts/truetype')\n",
    "for font_file in font_files:\n",
    "    try: \n",
    "        matplotlib.font_manager.fontManager.addfont(font_file)\n",
    "    except Exception:\n",
    "        print('failed to add font ' + font_file)\n",
    "        #ignore\n",
    "font = {'family' : 'YS Text',\n",
    "        'size'   : 16}\n",
    "\n",
    "matplotlib.rc('font', **font)"
   ]
  },
  {
   "cell_type": "code",
   "execution_count": 2,
   "id": "f11aa958-d46e-4136-a769-cd1c58980949",
   "metadata": {},
   "outputs": [],
   "source": [
    "#to speed up testing\n",
    "MAX_NUM_ROWS=50000\n",
    "# MAX_NUM_ROWS=10000000000\n",
    "\n",
    "MEDIASERVER_IDLE_TIMEOUT = 60\n",
    "\n",
    "#model parameters\n",
    "ISLAND_SIZES = [50] * 5\n",
    "RECONNECT_DOWNTIME_SECONDS = 10\n",
    "\n",
    "#parameters to optimize\n",
    "GRACE_PERIOD_SECONDS = 1800\n",
    "\n",
    "#disruptions are done one island at a time. When one rolls out, other islands stay 100% available\n",
    "DISRUPTION_BUDGET = 50"
   ]
  },
  {
   "cell_type": "code",
   "execution_count": 3,
   "id": "d0c38115-0854-4c5b-bd07-818649335384",
   "metadata": {},
   "outputs": [
    {
     "name": "stdout",
     "output_type": "stream",
     "text": [
      "Room Media Sessions loaded: 50000\n"
     ]
    }
   ],
   "source": [
    "calls  = pd.read_csv('calls_data_week.tsv', header=0, names=['msid','peer_id', 'room_id', 'rsid', 'ts_connected', 'ts_joined', 'ts_leave', 'ts_offer'], delimiter='\\t', nrows=MAX_NUM_ROWS)\n",
    "print(f\"Room Media Sessions loaded: {calls.shape[0]}\")\n",
    "# calls.head(15)"
   ]
  },
  {
   "cell_type": "code",
   "execution_count": null,
   "id": "89e256ab-706b-4d2e-8f42-db5c46f01046",
   "metadata": {},
   "outputs": [],
   "source": []
  },
  {
   "cell_type": "code",
   "execution_count": 4,
   "id": "4f21fdf7-c71d-458f-b51b-d00d73ca2567",
   "metadata": {},
   "outputs": [],
   "source": [
    "import rms_tests\n",
    "rms_tests.run_tests(MEDIASERVER_IDLE_TIMEOUT)"
   ]
  },
  {
   "cell_type": "code",
   "execution_count": 5,
   "id": "25c3fe54-84f6-4b6c-8426-f535863a122f",
   "metadata": {},
   "outputs": [],
   "source": [
    "rmsConnections = [None] * calls.shape[0]\n",
    "peerConnections: dict[str, PeerConnection] = dict()\n",
    "#to be split by concurrent groups later. needed to assign media servers to these sessions\n",
    "sameRoomRMSConnections: dict[str, list[RMSConnection]] = dict()\n",
    "errorsConnected = []\n",
    "errorsJoined = []\n",
    "errorsLeave = []\n",
    "\n",
    "def registerRMSConnection(rmsc: RMSConnection):\n",
    "    pcKey = f\"{rmsc.room_id}_{rmsc.peer_id}\"\n",
    "    pc: PeerConnection = None\n",
    "    if(pcKey not in peerConnections):\n",
    "        pc = PeerConnection([rmsc])\n",
    "        peerConnections[pcKey] = pc\n",
    "    else:\n",
    "        pc = peerConnections[pcKey]\n",
    "    pc.ts_joined = min(pc.ts_joined, rmsc.ts_joined)\n",
    "    pc.ts_connected = min(pc.ts_connected, rmsc.ts_connected)\n",
    "    pc.ts_leave = max(pc.ts_leave, rmsc.ts_leave)\n",
    "    pc.rmsConnections.append(rmsc)\n",
    "\n",
    "    sameRoom = None\n",
    "    if(rmsc.room_id not in sameRoomRMSConnections):\n",
    "        sameRoom = []\n",
    "        sameRoomRMSConnections[rmsc.room_id] = sameRoom\n",
    "    else:\n",
    "        sameRoom = sameRoomRMSConnections[rmsc.room_id]\n",
    "    sameRoom.append(rmsc)"
   ]
  },
  {
   "cell_type": "code",
   "execution_count": 6,
   "id": "e8a544c8-5df7-40e3-a8da-b2c62003c902",
   "metadata": {},
   "outputs": [
    {
     "name": "stdout",
     "output_type": "stream",
     "text": [
      "connected errors: 3161\n",
      "Joined errors: 0\n",
      "Leave errors: 74\n",
      "Peer connections: 45695\n",
      "Room IDs: 37876\n",
      "Room Meetings: 42331\n"
     ]
    }
   ],
   "source": [
    "for index in range(0, calls.shape[0]):\n",
    "    try:\n",
    "        rmsc = RMSConnection(\n",
    "            calls['room_id'][index],\n",
    "            calls['peer_id'][index],\n",
    "            calls['msid'][index],\n",
    "            calls['rsid'][index],\n",
    "            calls['ts_joined'][index],\n",
    "            calls['ts_connected'][index],\n",
    "            calls['ts_leave'][index]\n",
    "        )\n",
    "    except RMSConnectionCreationException as e:\n",
    "        match e.reason:\n",
    "            case \"joined\":\n",
    "                errorsJoined.append(index)\n",
    "            case \"connected\":\n",
    "                errorsConnected.append(index)\n",
    "            case \"leave\":\n",
    "                errorsLeave.append(index)\n",
    "            case _:\n",
    "                raise f\"unknown reason {e.reason}\"\n",
    "        \n",
    "    # rmsc.room_id = calls['room_id'][index]\n",
    "    # rmsc.peer_id = calls['peer_id'][index]\n",
    "    # rmsc.msid = calls['msid'][index]\n",
    "    # rmsc.rsid = calls['rsid'][index]\n",
    "    \n",
    "    # if(type(calls['ts_connected'][index]) == float):\n",
    "    #     errorsConnected.append(index)\n",
    "    #     continue\n",
    "    # else:\n",
    "    #     rmsc.ts_connected = datetime.strptime(calls['ts_connected'][index], '%Y-%m-%d %H:%M:%S,%f')\n",
    "\n",
    "    # if(type(calls['ts_joined'][index]) == float):\n",
    "    #     errorsJoined.append(index)\n",
    "    #     continue\n",
    "    # else:\n",
    "    #     rmsc.ts_joined = datetime.strptime(calls['ts_joined'][index], '%Y-%m-%d %H:%M:%S,%f')\n",
    "\n",
    "    # if(type(calls['ts_leave'][index]) == float):\n",
    "    #     errorsLeave.append(index)\n",
    "    #     continue\n",
    "    # else:\n",
    "    #     rmsc.ts_leave = datetime.strptime(calls['ts_leave'][index], '%Y-%m-%d %H:%M:%S,%f')\n",
    "    \n",
    "    rmsConnections[index] = rmsc\n",
    "    registerRMSConnection(rmsc)\n",
    "\n",
    "roomMeetings = splitRoomMeetings(sameRoomRMSConnections, MEDIASERVER_IDLE_TIMEOUT)\n",
    "\n",
    "print(f\"connected errors: {len(errorsConnected)}\\nJoined errors: {len(errorsJoined)}\\nLeave errors: {len(errorsLeave)}\\nPeer connections: {len(peerConnections)}\\nRoom IDs: {len(sameRoomRMSConnections)}\\nRoom Meetings: {len(roomMeetings)}\")\n",
    "# print({k: str(peerConnections[k])  for k in list(peerConnections)[:10]})\n",
    "\n"
   ]
  },
  {
   "cell_type": "code",
   "execution_count": 7,
   "id": "4d451d67-fb3c-4486-8291-bd859ba4c186",
   "metadata": {},
   "outputs": [],
   "source": [
    "def countRoomMeetingsAt(ts: datetime):\n",
    "    result = 0\n",
    "    for rm in roomMeetings:\n",
    "        if(rm.ts_start <= ts and rm.ts_finish >= ts): result+=1\n",
    "    return result\n",
    "\n",
    "\n",
    "def countPeerConnectionsAt(ts: datetime):\n",
    "    result = 0\n",
    "    for rm in roomMeetings:\n",
    "        if(rm.ts_start > ts or rm.ts_finish < ts): continue\n",
    "        for pc in rm.peerConnections:\n",
    "            if (pc.ts_joined <= ts and pc.ts_leave >= ts): result += 1\n",
    "    return result\n",
    "            \n",
    "#countRoomMeetingsAt(datetime.strptime('2023-10-04 10:35:36,448', '%Y-%m-%d %H:%M:%S,%f'))\n",
    "#countPeerConnectionsAt(datetime.strptime('2023-10-04 10:35:36,448', '%Y-%m-%d %H:%M:%S,%f'))\n"
   ]
  },
  {
   "cell_type": "code",
   "execution_count": 8,
   "id": "596331d8-445b-44a0-8d1e-3150d7be9b03",
   "metadata": {},
   "outputs": [],
   "source": [
    "\n",
    "start_date=datetime.strptime('2023-10-04 10:30:00,000', '%Y-%m-%d %H:%M:%S,%f')\n",
    "end_date=datetime.strptime('2023-10-04 11:30:00,000', '%Y-%m-%d %H:%M:%S,%f')\n",
    "\n",
    "date_range = list(pd.date_range(start_date, end_date, freq='30S'))\n",
    "roomMeetingsValues = list(map(lambda date: countRoomMeetingsAt(date), date_range))\n",
    "concurrentPeerConnectionsValues = list(map(lambda date: countPeerConnectionsAt(date), date_range))"
   ]
  },
  {
   "cell_type": "code",
   "execution_count": null,
   "id": "50a64b4c-579c-40d0-a261-dd0cf2e32642",
   "metadata": {},
   "outputs": [],
   "source": [
    "fig = plt.figure(figsize=(16, 4))\n",
    "ax = fig.add_subplot(111)\n",
    "ax.set_title('Room Meetings', fontsize=36, fontname=fontName)\n",
    "ax.set_xlabel('DateTime', fontsize=22, fontname=fontName)\n",
    "ax.set_ylabel('Room Meetings', fontsize=22, fontname=fontName)\n",
    "plt.scatter(x=date_range, y=roomMeetingsValues, color=fontColor, label='Room Meetings')\n",
    "ax.grid()\n",
    "plt.legend(fontsize=22, loc =\"upper right\")\n",
    "\n",
    "fig = plt.figure(figsize=(16, 4))\n",
    "ax = fig.add_subplot(111)\n",
    "ax.set_title('Room Meetings', fontsize=36, fontname=fontName)\n",
    "ax.set_xlabel('DateTime', fontsize=22, fontname=fontName)\n",
    "ax.set_ylabel('Peer Connections', fontsize=22, fontname=fontName)\n",
    "plt.scatter(x=date_range, y=concurrentPeerConnectionsValues, color=fontColor, label='Peer Connections')\n",
    "ax.grid()\n",
    "plt.legend(fontsize=22, loc =\"upper right\")"
   ]
  }
 ],
 "metadata": {
  "kernelspec": {
   "display_name": "Python 3 (ipykernel)",
   "language": "python",
   "name": "python3"
  },
  "language_info": {
   "codemirror_mode": {
    "name": "ipython",
    "version": 3
   },
   "file_extension": ".py",
   "mimetype": "text/x-python",
   "name": "python",
   "nbconvert_exporter": "python",
   "pygments_lexer": "ipython3",
   "version": "3.11.5"
  }
 },
 "nbformat": 4,
 "nbformat_minor": 5
}
