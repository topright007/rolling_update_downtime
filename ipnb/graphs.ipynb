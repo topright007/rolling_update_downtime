{
 "cells": [
  {
   "cell_type": "code",
   "execution_count": null,
   "outputs": [],
   "source": [
    "import numpy as np\n",
    "import matplotlib.pyplot as plt\n",
    "import pandas as pd\n",
    "from statistics import mean\n",
    "import matplotlib.font_manager\n",
    "\n",
    "from RoomMeetingAssignments import *\n",
    "from PeerConnection import *\n",
    "from dt_calc_models import *\n",
    "\n",
    "from rmsops import *\n",
    "\n",
    "fontName = 'YS Text'\n",
    "fontColor = '#FF6427'\n",
    "fontColor2 = '#000000'\n",
    "\n",
    "font_files = matplotlib.font_manager.findSystemFonts(fontpaths='/usr/share/fonts/truetype')\n",
    "for font_file in font_files:\n",
    "    try:\n",
    "        matplotlib.font_manager.fontManager.addfont(font_file)\n",
    "    except Exception:\n",
    "        print('failed to add font ' + font_file)\n",
    "        #ignore\n",
    "font = {'family' : 'YS Text',\n",
    "        'size'   : 16}\n",
    "\n",
    "matplotlib.rc('font', **font)"
   ],
   "metadata": {
    "collapsed": false
   }
  },
  {
   "cell_type": "code",
   "execution_count": null,
   "id": "e5245f89",
   "metadata": {
    "collapsed": false,
    "jupyter": {
     "outputs_hidden": false
    }
   },
   "outputs": [],
   "source": [
    "#to speed up testing\n",
    "MAX_NUM_ROWS=50000\n",
    "# MAX_NUM_ROWS=10000000000\n",
    "\n",
    "MEDIASERVER_IDLE_TIMEOUT = 60\n",
    "\n",
    "#model parameters\n",
    "ISLAND_SIZES = [50] * 5\n",
    "RECONNECT_DOWNTIME_SECONDS = 10\n",
    "\n",
    "#parameters to optimize\n",
    "GRACE_PERIOD_SECONDS = 1800\n",
    "\n",
    "#disruptions are done one island at a time. When one rolls out, other islands stay 100% available\n",
    "DISRUPTION_BUDGET = 50"
   ]
  },
  {
   "cell_type": "code",
   "execution_count": null,
   "id": "954407b9",
   "metadata": {
    "collapsed": false,
    "jupyter": {
     "outputs_hidden": false
    }
   },
   "outputs": [],
   "source": [
    "def plotResult(sourceFName):\n",
    "    downtimesToPlot = RMSDowntimeChart.parse(fname=sourceFName)\n",
    "\n",
    "\n",
    "    print(f\"Total DT:\\t\\t\\t{downtimesToPlot.totalDT}\\n\"\n",
    "          f\"Policy:\\t\\t\\t\\t{downtimesToPlot.policyStr}\\n\"\n",
    "          f\"DT Model:\\t\\t\\t{downtimesToPlot.dtModelStr}\\n\"\n",
    "          f\"Grace Period:\\t\\t{downtimesToPlot.gracePeriodSec}\\n\"\n",
    "          f\"Disruption Budget:\\t{downtimesToPlot.disruptionBudget}\\n\"\n",
    "          f\"Restart Date:\\t\\t{downtimesToPlot.restartDateStr}\\n\"\n",
    "          f\"Rollout Started:\\t{formatIsoDate(downtimesToPlot.rolloutBoundaries[0][0])}\\n\"\n",
    "          f\"Rollout Finished:\\t{formatIsoDate(downtimesToPlot.rolloutBoundaries[0][1])}\\n\")\n",
    "\n",
    "    fig = plt.figure(figsize=(16, 3))\n",
    "    ax = fig.add_subplot(111)\n",
    "    ax.set_title('Downtime Derivative', fontsize=36, fontname=fontName)\n",
    "    ax.set_xlabel('DateTime', fontsize=22, fontname=fontName)\n",
    "    ax.set_ylabel('Downtime', fontsize=22, fontname=fontName)\n",
    "    ax.plot(downtimesToPlot.datetimes, downtimesToPlot.dts, color=fontColor, label='Downtimes')\n",
    "    ax.grid()\n",
    "    plt.legend(fontsize=22, loc =\"upper right\")\n",
    "\n",
    "    fig = plt.figure(figsize=(16, 3))\n",
    "    ax = fig.add_subplot(111)\n",
    "    ax.set_title('Total connections', fontsize=36, fontname=fontName)\n",
    "    ax.set_xlabel('DateTime', fontsize=22, fontname=fontName)\n",
    "    ax.set_ylabel('RMInterrupted', fontsize=22, fontname=fontName)\n",
    "    matplotlib.rcParams['lines.markersize']=10\n",
    "    ax.plot(downtimesToPlot.datetimes, downtimesToPlot.pcTotal, color=fontColor, label='PC total')\n",
    "    matplotlib.rcParams['lines.markersize']=8\n",
    "    ax.plot(downtimesToPlot.datetimes, downtimesToPlot.rmTotal, color='Black', label='RM Total')\n",
    "    ax.grid()\n",
    "    plt.legend(fontsize=22, loc =\"upper right\")\n",
    "\n",
    "    fig = plt.figure(figsize=(16, 3))\n",
    "    ax = fig.add_subplot(111)\n",
    "    ax.set_title('Interrupted connections', fontsize=36, fontname=fontName)\n",
    "    ax.set_xlabel('DateTime', fontsize=22, fontname=fontName)\n",
    "    ax.set_ylabel('PC Interrupted', fontsize=22, fontname=fontName)\n",
    "    matplotlib.rcParams['lines.markersize']=10\n",
    "    ax.plot(downtimesToPlot.datetimes, downtimesToPlot.pcInterrupted, color=fontColor, label='PC Interrupted')\n",
    "    matplotlib.rcParams['lines.markersize']=8\n",
    "    ax.plot(downtimesToPlot.datetimes, downtimesToPlot.rmInterrupted, color='Black', label='RM Interrupted')\n",
    "    ax.grid()\n",
    "    plt.legend(fontsize=22, loc =\"upper right\")"
   ]
  },
  {
   "cell_type": "code",
   "execution_count": null,
   "id": "6ad9dce6-a634-4892-a01d-82b4c04f297e",
   "metadata": {},
   "outputs": [],
   "source": [
    "plotResult('result_RandomIslandLeastLoadedNewNodePolicy.dtmodel_IntegratingDTClacModel.grace_3600.disr_15.at_2023-10-02T10:00:00.json')"
   ]
  },
  {
   "cell_type": "code",
   "execution_count": null,
   "id": "2c129966",
   "metadata": {
    "collapsed": false,
    "jupyter": {
     "outputs_hidden": false
    }
   },
   "outputs": [],
   "source": [
    "plotResult('result_RandomIslandLeastLoadedNewNodePolicy.dtmodel_DTOverTheWholeWeek.grace_3600.disr_40.at_2023-10-02T10:00:00.json')"
   ]
  },
  {
   "cell_type": "code",
   "execution_count": null,
   "id": "1be808bc",
   "metadata": {
    "collapsed": false,
    "jupyter": {
     "outputs_hidden": false
    }
   },
   "outputs": [],
   "source": [
    "plotResult('result_RandomIslandLeastLoadedNewNodePolicy.dtmodel_DTOverTheWholeWeek.grace_1800.disr_40.at_2023-10-02T10:00:00.json')"
   ]
  },
  {
   "cell_type": "code",
   "execution_count": null,
   "id": "4bf8d874-4770-4531-b749-dee1ab593e3b",
   "metadata": {},
   "outputs": [],
   "source": [
    "plotResult('result_RandomIslandLeastLoadedNewNodePolicy.dtmodel_DTOverTheWholeWeek.grace_900.disr_40.at_2023-10-02T10:00:00.json')"
   ]
  }
 ],
 "metadata": {
  "kernelspec": {
   "display_name": "Python 3 (ipykernel)",
   "language": "python",
   "name": "python3"
  },
  "language_info": {
   "codemirror_mode": {
    "name": "ipython",
    "version": 3
   },
   "file_extension": ".py",
   "mimetype": "text/x-python",
   "name": "python",
   "nbconvert_exporter": "python",
   "pygments_lexer": "ipython3",
   "version": "3.11.5"
  }
 },
 "nbformat": 4,
 "nbformat_minor": 5
}
