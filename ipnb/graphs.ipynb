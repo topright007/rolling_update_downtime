{
 "cells": [
  {
   "cell_type": "code",
   "execution_count": null,
   "outputs": [],
   "source": [
    "import numpy as np\n",
    "import matplotlib.pyplot as plt\n",
    "import pandas as pd\n",
    "from statistics import mean\n",
    "import matplotlib.font_manager\n",
    "\n",
    "from RoomMeetingAssignments import *\n",
    "from PeerConnection import *\n",
    "from dt_calc_models import *\n",
    "\n",
    "from rmsops import *\n",
    "\n",
    "fontName = 'YS Text'\n",
    "fontColor = '#FF6427'\n",
    "fontColor2 = '#000000'\n",
    "\n",
    "font_files = matplotlib.font_manager.findSystemFonts(fontpaths='/usr/share/fonts/truetype')\n",
    "for font_file in font_files:\n",
    "    try: \n",
    "        matplotlib.font_manager.fontManager.addfont(font_file)\n",
    "    except Exception:\n",
    "        print('failed to add font ' + font_file)\n",
    "        #ignore\n",
    "font = {'family' : 'YS Text',\n",
    "        'size'   : 16}\n",
    "\n",
    "matplotlib.rc('font', **font)"
   ],
   "metadata": {
    "collapsed": false
   }
  },
  {
   "cell_type": "code",
   "execution_count": null,
   "outputs": [],
   "source": [
    "#to speed up testing\n",
    "MAX_NUM_ROWS=50000\n",
    "# MAX_NUM_ROWS=10000000000\n",
    "\n",
    "MEDIASERVER_IDLE_TIMEOUT = 60\n",
    "\n",
    "#model parameters\n",
    "ISLAND_SIZES = [50] * 5\n",
    "RECONNECT_DOWNTIME_SECONDS = 10\n",
    "\n",
    "#parameters to optimize\n",
    "GRACE_PERIOD_SECONDS = 1800\n",
    "\n",
    "#disruptions are done one island at a time. When one rolls out, other islands stay 100% available\n",
    "DISRUPTION_BUDGET = 50"
   ],
   "metadata": {
    "collapsed": false
   }
  },
  {
   "cell_type": "code",
   "execution_count": null,
   "outputs": [],
   "source": [
    "downtimesToPlot = RMSDowntimeChart(sourceFname=\"result.tsv\")\n",
    "\n",
    "fig = plt.figure(figsize=(16, 3))\n",
    "ax = fig.add_subplot(111)\n",
    "ax.set_title('Downtime Derivative', fontsize=36, fontname=fontName)\n",
    "ax.set_xlabel('DateTime', fontsize=22, fontname=fontName)\n",
    "ax.set_ylabel('Downtime', fontsize=22, fontname=fontName)\n",
    "plt.scatter(x=downtimesToPlot.dates, y=downtimesToPlot.dts, color=fontColor, label='Downtimes')\n",
    "ax.grid()\n",
    "plt.legend(fontsize=22, loc =\"upper right\")\n",
    "\n",
    "fig = plt.figure(figsize=(16, 3))\n",
    "ax = fig.add_subplot(111)\n",
    "ax.set_title('Interrupted connections', fontsize=36, fontname=fontName)\n",
    "ax.set_xlabel('DateTime', fontsize=22, fontname=fontName)\n",
    "ax.set_ylabel('PC Interrupted', fontsize=22, fontname=fontName)\n",
    "matplotlib.rcParams['lines.markersize']=10\n",
    "plt.scatter(x=downtimesToPlot.dates, y=downtimesToPlot.pcInterrupted, color=fontColor, label='PC Interrupted')\n",
    "matplotlib.rcParams['lines.markersize']=8\n",
    "plt.scatter(x=downtimesToPlot.dates, y=downtimesToPlot.rmInterrupted, color='Black', label='RM Interrupted')\n",
    "ax.grid()\n",
    "plt.legend(fontsize=22, loc =\"upper right\")\n",
    "\n",
    "fig = plt.figure(figsize=(16, 3))\n",
    "ax = fig.add_subplot(111)\n",
    "ax.set_title('Total connections', fontsize=36, fontname=fontName)\n",
    "ax.set_xlabel('DateTime', fontsize=22, fontname=fontName)\n",
    "ax.set_ylabel('RMInterrupted', fontsize=22, fontname=fontName)\n",
    "matplotlib.rcParams['lines.markersize']=10\n",
    "plt.scatter(x=downtimesToPlot.dates, y=downtimesToPlot.pcTotal, color=fontColor, label='PC total')\n",
    "matplotlib.rcParams['lines.markersize']=8\n",
    "plt.scatter(x=downtimesToPlot.dates, y=downtimesToPlot.rmTotal, color='Black', label='RM Total')\n",
    "ax.grid()\n",
    "plt.legend(fontsize=22, loc =\"upper right\")"
   ],
   "metadata": {
    "collapsed": false
   }
  }
 ],
 "metadata": {
  "kernelspec": {
   "display_name": "Python 3 (ipykernel)",
   "language": "python",
   "name": "python3"
  },
  "language_info": {
   "codemirror_mode": {
    "name": "ipython",
    "version": 3
   },
   "file_extension": ".py",
   "mimetype": "text/x-python",
   "name": "python",
   "nbconvert_exporter": "python",
   "pygments_lexer": "ipython3",
   "version": "3.11.5"
  }
 },
 "nbformat": 4,
 "nbformat_minor": 5
}
