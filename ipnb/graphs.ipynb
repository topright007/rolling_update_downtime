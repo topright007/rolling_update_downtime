{
 "cells": [
  {
   "cell_type": "code",
   "execution_count": 1,
   "id": "9b4edc3a-620f-4caf-89fb-153d3e2e1639",
   "metadata": {},
   "outputs": [
    {
     "name": "stdout",
     "output_type": "stream",
     "text": [
      "failed to add font /usr/share/fonts/truetype/noto/NotoColorEmoji.ttf\n"
     ]
    }
   ],
   "source": [
    "import numpy as np\n",
    "import matplotlib.pyplot as plt\n",
    "import pandas as pd\n",
    "from statistics import mean\n",
    "import matplotlib.font_manager\n",
    "\n",
    "from RoomMeetingAssignments import *\n",
    "from PeerConnection import *\n",
    "from dt_calc_models import *\n",
    "\n",
    "from rmsops import *\n",
    "\n",
    "fontName = 'YS Text'\n",
    "fontColor = '#FF6427'\n",
    "fontColor2 = '#000000'\n",
    "\n",
    "font_files = matplotlib.font_manager.findSystemFonts(fontpaths='/usr/share/fonts/truetype')\n",
    "for font_file in font_files:\n",
    "    try: \n",
    "        matplotlib.font_manager.fontManager.addfont(font_file)\n",
    "    except Exception:\n",
    "        print('failed to add font ' + font_file)\n",
    "        #ignore\n",
    "font = {'family' : 'YS Text',\n",
    "        'size'   : 16}\n",
    "\n",
    "matplotlib.rc('font', **font)"
   ]
  },
  {
   "cell_type": "code",
   "execution_count": 2,
   "id": "f11aa958-d46e-4136-a769-cd1c58980949",
   "metadata": {},
   "outputs": [],
   "source": [
    "#to speed up testing\n",
    "MAX_NUM_ROWS=50000\n",
    "# MAX_NUM_ROWS=10000000000\n",
    "\n",
    "MEDIASERVER_IDLE_TIMEOUT = 60\n",
    "\n",
    "#model parameters\n",
    "ISLAND_SIZES = [50] * 5\n",
    "RECONNECT_DOWNTIME_SECONDS = 10\n",
    "\n",
    "#parameters to optimize\n",
    "GRACE_PERIOD_SECONDS = 1800\n",
    "\n",
    "#disruptions are done one island at a time. When one rolls out, other islands stay 100% available\n",
    "DISRUPTION_BUDGET = 50"
   ]
  }
 ],
 "metadata": {
  "kernelspec": {
   "display_name": "Python 3 (ipykernel)",
   "language": "python",
   "name": "python3"
  },
  "language_info": {
   "codemirror_mode": {
    "name": "ipython",
    "version": 3
   },
   "file_extension": ".py",
   "mimetype": "text/x-python",
   "name": "python",
   "nbconvert_exporter": "python",
   "pygments_lexer": "ipython3",
   "version": "3.11.5"
  }
 },
 "nbformat": 4,
 "nbformat_minor": 5
}
